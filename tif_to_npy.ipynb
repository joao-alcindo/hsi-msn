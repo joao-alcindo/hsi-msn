{
 "cells": [
  {
   "attachments": {},
   "cell_type": "markdown",
   "metadata": {},
   "source": [
    "# Setup"
   ]
  },
  {
   "cell_type": "code",
   "execution_count": 1,
   "metadata": {},
   "outputs": [],
   "source": [
    "import glob\n",
    "import multiprocessing\n",
    "import numpy as np\n",
    "import rasterio"
   ]
  },
  {
   "cell_type": "code",
   "execution_count": 2,
   "metadata": {},
   "outputs": [],
   "source": [
    "in_directory = \"./../hyspecnet-11k/hyspecnet-11k/patches/\""
   ]
  },
  {
   "cell_type": "code",
   "execution_count": 3,
   "metadata": {},
   "outputs": [],
   "source": [
    "invalid_channels = [126, 127, 128, 129, 130, 131, 132, 133, 134, 135, 136, 137, 138, 139, 140, 160, 161, 162, 163, 164, 165, 166]\n",
    "valid_channels_ids = [c+1 for c in range(224) if c not in invalid_channels]\n",
    "\n",
    "minimum_value = 0\n",
    "maximum_value = 10000"
   ]
  },
  {
   "cell_type": "code",
   "execution_count": 4,
   "metadata": {},
   "outputs": [],
   "source": [
    "in_patches = glob.glob(f\"{in_directory}**/**/*SPECTRAL_IMAGE.TIF\")"
   ]
  },
  {
   "attachments": {},
   "cell_type": "markdown",
   "metadata": {},
   "source": [
    "# Convert And Store Hyperspectral Data"
   ]
  },
  {
   "cell_type": "code",
   "execution_count": 6,
   "metadata": {},
   "outputs": [],
   "source": [
    "def convert(patch_path):\n",
    "    # load patch\n",
    "    dataset = rasterio.open(patch_path)\n",
    "    # remove nodata channels\n",
    "    src = dataset.read(valid_channels_ids)\n",
    "    # clip data to remove uncertainties\n",
    "    clipped = np.clip(src, a_min=minimum_value, a_max=maximum_value)\n",
    "    # min-max normalization\n",
    "    out_data = (clipped - minimum_value) / (maximum_value - minimum_value)\n",
    "    out_data = out_data.astype(np.float32)\n",
    "    # save npy\n",
    "    out_path = patch_path.replace(\"SPECTRAL_IMAGE\", \"DATA\").replace(\"TIF\", \"npy\")\n",
    "    np.save(out_path, out_data)"
   ]
  },
  {
   "cell_type": "code",
   "execution_count": 7,
   "metadata": {},
   "outputs": [],
   "source": [
    "with multiprocessing.Pool(64) as pool:\n",
    "    pool.map(convert, in_patches)"
   ]
  },
  {
   "cell_type": "code",
   "execution_count": 10,
   "metadata": {},
   "outputs": [],
   "source": [
    "npy = glob.glob(f\"{in_directory}**/**/*DATA.npy\")"
   ]
  },
  {
   "cell_type": "code",
   "execution_count": 11,
   "metadata": {},
   "outputs": [
    {
     "data": {
      "text/plain": [
       "(202, 128, 128)"
      ]
     },
     "execution_count": 11,
     "metadata": {},
     "output_type": "execute_result"
    }
   ],
   "source": [
    "np.load(npy[0]).shape"
   ]
  }
 ],
 "metadata": {
  "kernelspec": {
   "display_name": "hsi-msn",
   "language": "python",
   "name": "python3"
  },
  "language_info": {
   "codemirror_mode": {
    "name": "ipython",
    "version": 3
   },
   "file_extension": ".py",
   "mimetype": "text/x-python",
   "name": "python",
   "nbconvert_exporter": "python",
   "pygments_lexer": "ipython3",
   "version": "3.10.13"
  },
  "orig_nbformat": 4
 },
 "nbformat": 4,
 "nbformat_minor": 2
}
